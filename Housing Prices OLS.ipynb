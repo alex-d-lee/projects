{
 "cells": [
  {
   "cell_type": "markdown",
   "id": "c5600360",
   "metadata": {},
   "source": [
    "# Using OLS and Multiple Regression to Predict Housing Prices\n",
    "## Alex Lee"
   ]
  },
  {
   "cell_type": "markdown",
   "id": "b244f199",
   "metadata": {},
   "source": [
    "I will investigate the relationship between housing prices and the physical characteristics of a home. I used the hprice.xls data set which was collected from the real estate pages of the Boston Globe in 1990 (these are homes selling in the Boston, MA area). It contains data on the selling price (price) of the house (in$1000), the size (sqrft) of the house in square feet, the number of bedrooms (bdrms), the size of the lot (lotsize) in square feet, and a dummy variable (colonial) which  is equal to 1 if the home was colonial style. "
   ]
  },
  {
   "cell_type": "code",
   "execution_count": 1,
   "id": "261c0764",
   "metadata": {},
   "outputs": [],
   "source": [
    "import pandas as pd\n",
    "import numpy as np\n",
    "import seaborn as sns\n",
    "from sklearn.feature_extraction import DictVectorizer"
   ]
  },
  {
   "cell_type": "code",
   "execution_count": 2,
   "id": "c9e483d5",
   "metadata": {},
   "outputs": [],
   "source": [
    "data = pd.read_excel('hprice.xls')"
   ]
  },
  {
   "cell_type": "code",
   "execution_count": 3,
   "id": "90f15ee6",
   "metadata": {},
   "outputs": [
    {
     "data": {
      "text/html": [
       "<div>\n",
       "<style scoped>\n",
       "    .dataframe tbody tr th:only-of-type {\n",
       "        vertical-align: middle;\n",
       "    }\n",
       "\n",
       "    .dataframe tbody tr th {\n",
       "        vertical-align: top;\n",
       "    }\n",
       "\n",
       "    .dataframe thead th {\n",
       "        text-align: right;\n",
       "    }\n",
       "</style>\n",
       "<table border=\"1\" class=\"dataframe\">\n",
       "  <thead>\n",
       "    <tr style=\"text-align: right;\">\n",
       "      <th></th>\n",
       "      <th>price</th>\n",
       "      <th>bdrms</th>\n",
       "      <th>lotsize</th>\n",
       "      <th>sqrft</th>\n",
       "      <th>colonial</th>\n",
       "    </tr>\n",
       "  </thead>\n",
       "  <tbody>\n",
       "    <tr>\n",
       "      <th>0</th>\n",
       "      <td>300.0</td>\n",
       "      <td>4</td>\n",
       "      <td>6126</td>\n",
       "      <td>2438</td>\n",
       "      <td>1</td>\n",
       "    </tr>\n",
       "    <tr>\n",
       "      <th>1</th>\n",
       "      <td>370.0</td>\n",
       "      <td>3</td>\n",
       "      <td>9903</td>\n",
       "      <td>2076</td>\n",
       "      <td>1</td>\n",
       "    </tr>\n",
       "    <tr>\n",
       "      <th>2</th>\n",
       "      <td>191.0</td>\n",
       "      <td>3</td>\n",
       "      <td>5200</td>\n",
       "      <td>1374</td>\n",
       "      <td>0</td>\n",
       "    </tr>\n",
       "    <tr>\n",
       "      <th>3</th>\n",
       "      <td>195.0</td>\n",
       "      <td>3</td>\n",
       "      <td>4600</td>\n",
       "      <td>1448</td>\n",
       "      <td>1</td>\n",
       "    </tr>\n",
       "    <tr>\n",
       "      <th>4</th>\n",
       "      <td>373.0</td>\n",
       "      <td>4</td>\n",
       "      <td>6095</td>\n",
       "      <td>2514</td>\n",
       "      <td>1</td>\n",
       "    </tr>\n",
       "  </tbody>\n",
       "</table>\n",
       "</div>"
      ],
      "text/plain": [
       "   price  bdrms  lotsize  sqrft  colonial\n",
       "0  300.0      4     6126   2438         1\n",
       "1  370.0      3     9903   2076         1\n",
       "2  191.0      3     5200   1374         0\n",
       "3  195.0      3     4600   1448         1\n",
       "4  373.0      4     6095   2514         1"
      ]
     },
     "execution_count": 3,
     "metadata": {},
     "output_type": "execute_result"
    }
   ],
   "source": [
    "data.head()"
   ]
  },
  {
   "cell_type": "code",
   "execution_count": 4,
   "id": "ade74beb",
   "metadata": {},
   "outputs": [
    {
     "data": {
      "text/plain": [
       "(101, 5)"
      ]
     },
     "execution_count": 4,
     "metadata": {},
     "output_type": "execute_result"
    }
   ],
   "source": [
    "data.shape"
   ]
  },
  {
   "cell_type": "markdown",
   "id": "8b6d8439",
   "metadata": {},
   "source": [
    "## Simple Regression Model\n",
    "Running a regression of selling price (price) on the size of the home (sqrft) and the number of bedrooms (bdrms)."
   ]
  },
  {
   "cell_type": "code",
   "execution_count": 7,
   "id": "9f42624d",
   "metadata": {},
   "outputs": [],
   "source": [
    "price = data['price']\n",
    "x = data.drop(columns = 'price')"
   ]
  },
  {
   "cell_type": "markdown",
   "id": "f612adc3",
   "metadata": {},
   "source": [
    "Using the SciKit learn package for linear regression."
   ]
  },
  {
   "cell_type": "code",
   "execution_count": 8,
   "id": "21aa4536",
   "metadata": {},
   "outputs": [],
   "source": [
    "from sklearn.linear_model import LinearRegression\n",
    "#Selecting only the sqrft column\n",
    "model = LinearRegression().fit(x[['sqrft']], price)"
   ]
  },
  {
   "cell_type": "markdown",
   "id": "02186374",
   "metadata": {},
   "source": [
    "Slope of the regression line:"
   ]
  },
  {
   "cell_type": "code",
   "execution_count": 14,
   "id": "cda14851",
   "metadata": {},
   "outputs": [
    {
     "data": {
      "text/plain": [
       "0.13930515867812018"
      ]
     },
     "execution_count": 14,
     "metadata": {},
     "output_type": "execute_result"
    }
   ],
   "source": [
    "model.coef_[0]"
   ]
  },
  {
   "cell_type": "code",
   "execution_count": 10,
   "id": "de683034",
   "metadata": {},
   "outputs": [
    {
     "data": {
      "text/plain": [
       "12.403224388309297"
      ]
     },
     "execution_count": 10,
     "metadata": {},
     "output_type": "execute_result"
    }
   ],
   "source": [
    "model.intercept_"
   ]
  },
  {
   "cell_type": "markdown",
   "id": "f79937b6",
   "metadata": {},
   "source": [
    "Prediction for a 2000 sqrft home. Can be run with any value of sqrft. "
   ]
  },
  {
   "cell_type": "code",
   "execution_count": 13,
   "id": "74787937",
   "metadata": {},
   "outputs": [
    {
     "data": {
      "text/plain": [
       "291013.5417445497"
      ]
     },
     "execution_count": 13,
     "metadata": {},
     "output_type": "execute_result"
    }
   ],
   "source": [
    "1000 * model.predict([[2000]])[0]"
   ]
  },
  {
   "cell_type": "markdown",
   "id": "f82484b9",
   "metadata": {},
   "source": [
    "Now, I will look at the estimated increase in price for a house with one more bedroom, holding square footage constant. This will help to see the effect of adding another regressor to the equation. "
   ]
  },
  {
   "cell_type": "code",
   "execution_count": 15,
   "id": "4216c281",
   "metadata": {},
   "outputs": [],
   "source": [
    "features = x[['bdrms', 'sqrft']]\n",
    "model = LinearRegression().fit(features, price)"
   ]
  },
  {
   "cell_type": "code",
   "execution_count": 16,
   "id": "bda50027",
   "metadata": {},
   "outputs": [
    {
     "data": {
      "text/plain": [
       "array([14.41436051,  0.12808873])"
      ]
     },
     "execution_count": 16,
     "metadata": {},
     "output_type": "execute_result"
    }
   ],
   "source": [
    "model.coef_"
   ]
  },
  {
   "cell_type": "markdown",
   "id": "36e47243",
   "metadata": {},
   "source": [
    "The expected increase in price for a house with an additional bedroom holding sqrft constant is:"
   ]
  },
  {
   "cell_type": "code",
   "execution_count": 20,
   "id": "d6b72dab",
   "metadata": {},
   "outputs": [
    {
     "name": "stdout",
     "output_type": "stream",
     "text": [
      "$ 14414.360510822653\n"
     ]
    }
   ],
   "source": [
    "print('$ ' + str(model.coef_[0] * 1000))"
   ]
  },
  {
   "cell_type": "markdown",
   "id": "509d3533",
   "metadata": {},
   "source": [
    "Percentage of the variation in price explained by square footage and the number of bedrooms:"
   ]
  },
  {
   "cell_type": "code",
   "execution_count": 22,
   "id": "62dc5842",
   "metadata": {},
   "outputs": [
    {
     "name": "stdout",
     "output_type": "stream",
     "text": [
      "price       9.559607e+03\n",
      "bdrms       6.704950e-01\n",
      "lotsize     9.138198e+07\n",
      "sqrft       3.043069e+05\n",
      "colonial    2.108911e-01\n",
      "dtype: float64\n"
     ]
    }
   ],
   "source": [
    "print(data.var())"
   ]
  },
  {
   "cell_type": "code",
   "execution_count": 25,
   "id": "5e545a80",
   "metadata": {},
   "outputs": [
    {
     "name": "stdout",
     "output_type": "stream",
     "text": [
      "Percent Variation 0.3318662132670174%\n"
     ]
    }
   ],
   "source": [
    "var = data.var()\n",
    "total = sum(var)\n",
    "sb_var = var[1] + var[3]\n",
    "print(\"Percent Variation \" + str((sb_var/total) * 100) + \"%\")"
   ]
  },
  {
   "cell_type": "markdown",
   "id": "867685c5",
   "metadata": {},
   "source": [
    "As seen, the percent variation is only .33%"
   ]
  },
  {
   "cell_type": "markdown",
   "id": "3e151b2b",
   "metadata": {},
   "source": [
    "### Defining an OLS Regression Model"
   ]
  },
  {
   "cell_type": "code",
   "execution_count": 28,
   "id": "df4c4c21",
   "metadata": {},
   "outputs": [],
   "source": [
    "#Example square feet and bedrooms\n",
    "sqrft = 2438\n",
    "bdrms = 4\n",
    "\n",
    "def linear_model(thetas, X):\n",
    "    \"\"\"\n",
    "    Return the linear combination of thetas and features as defined above.\n",
    "    \n",
    "    Parameters\n",
    "    -----------\n",
    "    thetas: a 1D vector representing the parameters of our model ([theta1, theta2, ...])\n",
    "    X: a 2D dataframe of numeric features (may also be a 2D numpy array)\n",
    "    \n",
    "    Returns\n",
    "    -----------\n",
    "    A 1D vector representing the linear combination of thetas and features as defined above.\n",
    "    \"\"\"\n",
    "    return np.dot(X, thetas)"
   ]
  },
  {
   "cell_type": "code",
   "execution_count": 29,
   "id": "d3278918",
   "metadata": {},
   "outputs": [],
   "source": [
    "from scipy.optimize import minimize\n",
    "##OLS\n",
    "def l2(y, y_hat):\n",
    "    return (y - y_hat)**2\n",
    "def minimize_average_loss(loss_function, model, X, y):\n",
    "    \"\"\"\n",
    "    Minimize the average loss calculated from using different theta vectors, and \n",
    "    estimate the optimal theta for the model.\n",
    "    \n",
    "    Parameters\n",
    "    -----------\n",
    "    loss_function: either the squared or absolute loss functions defined above\n",
    "    model: the model.\n",
    "    X: a 2D dataframe (or numpy array) of numeric features (one-hot encoded)\n",
    "    y: a 1D vector of tip amounts\n",
    "    \n",
    "    Returns\n",
    "    -----------\n",
    "    The estimate for the optimal theta vector that minimizes our loss\n",
    "    \"\"\"\n",
    "    return minimize(lambda theta: np.mean(loss_function(y, model(theta,X))), x0= np.ones(X.shape[1]))['x']"
   ]
  },
  {
   "cell_type": "code",
   "execution_count": 30,
   "id": "6842906a",
   "metadata": {},
   "outputs": [],
   "source": [
    "coeffs = minimize_average_loss(l2, linear_model, features, price)"
   ]
  },
  {
   "cell_type": "markdown",
   "id": "265a803e",
   "metadata": {},
   "source": [
    "Predicted Price using OLS"
   ]
  },
  {
   "cell_type": "code",
   "execution_count": 33,
   "id": "93d502ec",
   "metadata": {},
   "outputs": [
    {
     "name": "stdout",
     "output_type": "stream",
     "text": [
      "$351679.4195098176\n"
     ]
    }
   ],
   "source": [
    "housePrice = coeffs[0] * bdrms + coeffs[1] * sqrft\n",
    "print ('$' + str(housePrice * 1000))"
   ]
  },
  {
   "cell_type": "markdown",
   "id": "6483dbfe",
   "metadata": {},
   "source": [
    "The sqrft and bdrms column are correlated so there is a possibility of an ommitted variable bias (OVB) with sqrft and thus overpredicting price (having too much weight). Below is an analysis to see if this is the case. In our data set, the given house price with these parameters is $300k."
   ]
  },
  {
   "cell_type": "code",
   "execution_count": 37,
   "id": "75360156",
   "metadata": {},
   "outputs": [
    {
     "data": {
      "text/plain": [
       "0.524224507321314"
      ]
     },
     "execution_count": 37,
     "metadata": {},
     "output_type": "execute_result"
    }
   ],
   "source": [
    "data['sqrft'].corr(data['bdrms'])"
   ]
  },
  {
   "cell_type": "code",
   "execution_count": 38,
   "id": "044ab13b",
   "metadata": {},
   "outputs": [
    {
     "data": {
      "text/plain": [
       "array([0.14512089])"
      ]
     },
     "execution_count": 38,
     "metadata": {},
     "output_type": "execute_result"
    }
   ],
   "source": [
    "coeffs = minimize_average_loss(l2, linear_model, data[['sqrft']], price)\n",
    "coeffs"
   ]
  },
  {
   "cell_type": "code",
   "execution_count": 39,
   "id": "2ce5da75",
   "metadata": {},
   "outputs": [
    {
     "data": {
      "text/plain": [
       "353.8047359589831"
      ]
     },
     "execution_count": 39,
     "metadata": {},
     "output_type": "execute_result"
    }
   ],
   "source": [
    "housePrice2 = coeffs[0] * sqrft\n",
    "housePrice2"
   ]
  },
  {
   "cell_type": "markdown",
   "id": "0c5953d7",
   "metadata": {},
   "source": [
    "As shown, our model without bedrooms overpredicts the effect of square footage and has an OVB. "
   ]
  },
  {
   "cell_type": "markdown",
   "id": "c6894d62",
   "metadata": {},
   "source": [
    "### Testing for Multicolinearity\n",
    "To do this, I will include lotsize in the original regression."
   ]
  },
  {
   "cell_type": "code",
   "execution_count": 40,
   "id": "fbd051e7",
   "metadata": {},
   "outputs": [
    {
     "data": {
      "text/plain": [
       "array([9.97008341e+00, 1.18851320e-01, 2.11072691e-03])"
      ]
     },
     "execution_count": 40,
     "metadata": {},
     "output_type": "execute_result"
    }
   ],
   "source": [
    "features2 = data[['bdrms', 'sqrft', 'lotsize']]\n",
    "coeffs3 = minimize_average_loss(l2, linear_model, features2, price)\n",
    "coeffs3"
   ]
  },
  {
   "cell_type": "markdown",
   "id": "157a56f3",
   "metadata": {},
   "source": [
    "The lot size coefficient is shown above as the third item in the array (2.11e-03). This coefficient is very small showing that the effect of lot size on the regression does not have a huge effect. This could potentially indicate a problem with multicolinearity as the columns could be linear transformations of each other. Another test is shown below to analyze multicolinearity."
   ]
  },
  {
   "cell_type": "code",
   "execution_count": 41,
   "id": "9600caf2",
   "metadata": {},
   "outputs": [
    {
     "name": "stdout",
     "output_type": "stream",
     "text": [
      "   feature        VIF\n",
      "0    bdrms  17.294603\n",
      "1    sqrft  17.728210\n",
      "2  lotsize   1.910102\n"
     ]
    }
   ],
   "source": [
    "from statsmodels.stats.outliers_influence import variance_inflation_factor\n",
    "vif_data = pd.DataFrame()\n",
    "vif_data['feature'] = features2.columns\n",
    "vif_data[\"VIF\"] = [variance_inflation_factor(features2.values, i) for i in range(len(features2.columns))]\n",
    "print(vif_data)"
   ]
  },
  {
   "cell_type": "markdown",
   "id": "9ecd0157",
   "metadata": {},
   "source": [
    "As seen above, bdrms and sqrft have very high levels of variance inflation factor, indicating that these variables are highly correlated. This is expected because as the number of bedrooms increases, the sqrft generally does too. These two features together likely lead to a model with high multicolinearity. "
   ]
  }
 ],
 "metadata": {
  "kernelspec": {
   "display_name": "Python 3",
   "language": "python",
   "name": "python3"
  },
  "language_info": {
   "codemirror_mode": {
    "name": "ipython",
    "version": 3
   },
   "file_extension": ".py",
   "mimetype": "text/x-python",
   "name": "python",
   "nbconvert_exporter": "python",
   "pygments_lexer": "ipython3",
   "version": "3.8.8"
  }
 },
 "nbformat": 4,
 "nbformat_minor": 5
}
